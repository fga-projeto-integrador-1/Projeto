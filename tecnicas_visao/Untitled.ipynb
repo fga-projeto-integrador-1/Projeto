{
 "cells": [
  {
   "cell_type": "code",
   "execution_count": 1,
   "metadata": {},
   "outputs": [
    {
     "name": "stdout",
     "output_type": "stream",
     "text": [
      "{0: ['t: apoio 2\\\\nw: 0', 't: pontual\\\\nw: 4'], 1000: [], 1279: []}\n"
     ]
    }
   ],
   "source": [
    "import cv2\n",
    "import numpy as np\n",
    "import matplotlib.pyplot as plt\n",
    "import pyzbar.pyzbar as pyzbar\n",
    "import copy\n",
    "\n",
    "\n",
    "def detect_qr_codes(qrcode, ranges):\n",
    "    cut = {}\n",
    "    data = []\n",
    "    h, w = qrcode.shape[:2]\n",
    "    our_ranges = [0] + ranges + [w-1]+[-1]\n",
    "    position = 0\n",
    "    for r in range(0, len(our_ranges) - 1):\n",
    "        qr = copy.copy(qrcode)\n",
    "        for i in range(0, w):\n",
    "            if (i < our_ranges[position] or i > our_ranges[position + 1]):\n",
    "                for j in range(0, h):\n",
    "                    qr[j][i] = 0, 0, 0\n",
    "        decodedObjects = pyzbar.decode(qr)\n",
    "        if decodedObjects == []:\n",
    "            data = []\n",
    "        else:\n",
    "            for code in decodedObjects:\n",
    "                text = str(code[0])[2:2] + str(code[0])[2:]\n",
    "                data.append(str(text)[:-1])\n",
    "        cut[our_ranges[position]] = data\n",
    "        data = []\n",
    "        position += 1\n",
    "\n",
    "    return cut\n",
    "image = cv2.imread('img/pontual_4.png')[:,:,::-1]\n",
    "qr_data = detect_qr_codes(image, [0, 1000])\n",
    "print(qr_data)\n",
    "\n"
   ]
  }
 ],
 "metadata": {
  "kernelspec": {
   "display_name": "Python 3",
   "language": "python",
   "name": "python3"
  },
  "language_info": {
   "codemirror_mode": {
    "name": "ipython",
    "version": 3
   },
   "file_extension": ".py",
   "mimetype": "text/x-python",
   "name": "python",
   "nbconvert_exporter": "python",
   "pygments_lexer": "ipython3",
   "version": "3.7.3"
  }
 },
 "nbformat": 4,
 "nbformat_minor": 2
}
