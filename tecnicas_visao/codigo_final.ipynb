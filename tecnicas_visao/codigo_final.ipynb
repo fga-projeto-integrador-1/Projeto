{
 "cells": [
  {
   "cell_type": "markdown",
   "metadata": {},
   "source": [
    "# Codificação dos QR Codes:\n",
    "Apoios:\n",
    "tipo, posicao\n",
    "\n",
    "Cargas:\n",
    "\n",
    "    Pontuais: tipo, posicao, modulo\n",
    "    \n",
    "    Distribuidas: tipo, posicao_i, posicao_f, modulo\n",
    "    \n",
    "    Triangulares: tipo, posicao_i, posicao_f, modulo (vale lembrar que posicao_f corresponde ao lado em que se encontra a altura do triangulo)"
   ]
  },
  {
   "cell_type": "code",
   "execution_count": 33,
   "metadata": {},
   "outputs": [
    {
     "name": "stdout",
     "output_type": "stream",
     "text": [
      "[['apoio1', '10']]\n"
     ]
    }
   ],
   "source": [
    "import cv2\n",
    "import numpy as np\n",
    "import matplotlib.pyplot as plt\n",
    "import pyzbar.pyzbar as pyzbar\n",
    "import copy\n",
    "\n",
    "image = cv2.imread('img/triangular.png')\n",
    "image = image[:,:,::-1]\n",
    "triangulares = []\n",
    "pontuais = []\n",
    "distribuidas = []\n",
    "apoios1 = []\n",
    "apoios2 = []\n",
    "\n",
    "all_data = pyzbar.decode(image)\n",
    "\n",
    "for qr in all_data:\n",
    "    a = str(qr[0]).replace(\"b\\'\", '').replace(\"\\'\", '').split(', ')\n",
    "    if 'apoio1' in a[0]:\n",
    "        apoios1.append(a)\n",
    "    elif 'apoio2' in a[0]:\n",
    "        apoios2.append(a)\n",
    "    elif 'triangular' in a[0]:\n",
    "        triangulares.append(a)\n",
    "    elif 'distribuida' in a[0]:\n",
    "        distribuidas.append(a)\n",
    "    elif 'pontual' in a[0]:\n",
    "        pontuais.append(a)\n",
    "print(apoios1)\n",
    "print(distrivuida)"
   ]
  }
 ],
 "metadata": {
  "kernelspec": {
   "display_name": "Python 3",
   "language": "python",
   "name": "python3"
  },
  "language_info": {
   "codemirror_mode": {
    "name": "ipython",
    "version": 3
   },
   "file_extension": ".py",
   "mimetype": "text/x-python",
   "name": "python",
   "nbconvert_exporter": "python",
   "pygments_lexer": "ipython3",
   "version": "3.7.3"
  }
 },
 "nbformat": 4,
 "nbformat_minor": 2
}
